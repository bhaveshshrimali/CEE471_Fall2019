{
 "cells": [
  {
   "cell_type": "code",
   "execution_count": 1,
   "metadata": {},
   "outputs": [],
   "source": [
    "import numpy as np\n",
    "import math\n",
    "import numpy.linalg as nla\n",
    "import matplotlib.pyplot as plt\n",
    "from scipy.integrate import solve_bvp, ode, odeint\n",
    "from scipy.optimize import least_squares\n",
    "plt.rc('text',usetex=True)\n",
    "from sympy import lambdify, simplify, Symbol, init_printing, log, solve, Function\n",
    "init_printing()"
   ]
  },
  {
   "cell_type": "code",
   "execution_count": 2,
   "metadata": {},
   "outputs": [],
   "source": [
    "# Material properties:\n",
    "# mu = 1. \n",
    "# kapp = 20.\n",
    "# alph = 2.5\n",
    "\n",
    "mu=Symbol('mu')\n",
    "kapp=Symbol('kappa')\n",
    "alph = Symbol('alpha')\n",
    "lam1, lam2, lam3 = Symbol('lambda_1'), Symbol('lambda_2'), Symbol('lambda_3')\n",
    "R = Symbol('R')\n",
    "B = Symbol('B')\n",
    "f = Function('f', real=True)\n",
    "fp = Function('f_p', real=True)\n",
    "Jdet = lam1*lam2*lam3"
   ]
  },
  {
   "cell_type": "code",
   "execution_count": 3,
   "metadata": {},
   "outputs": [],
   "source": [
    "# define the stored energy function in terms of the eigen-stretches\n",
    "\n",
    "W = mu/alph*(lam1**alph + lam2**alph + lam3**alph ) - mu*log(Jdet) + kapp/2*(Jdet - 1)**2"
   ]
  },
  {
   "cell_type": "code",
   "execution_count": 4,
   "metadata": {},
   "outputs": [],
   "source": [
    "# compute the symbolic derivatives: \n",
    "    # useful in calculation of the eigen stresses\n",
    "    \n",
    "dW_dl1 = lambdify((lam1, lam2, lam3), simplify(W.diff(lam1)), 'numpy')\n",
    "dW_dl2 = lambdify((lam1, lam2, lam3), simplify(W.diff(lam2)), 'numpy')\n",
    "dW_dl3 = lambdify((lam1, lam2, lam3), simplify(W.diff(lam3)), 'numpy')\n",
    "\n",
    "# t1 = dW_dl1(R*fp+f, f, f)\n",
    "# t2 = dW_dl2(R*fp+f, f, f)\n",
    "# t3 = dW_dl3(R*fp+f, f, f)\n",
    "t1 = simplify(1./(lam2*lam3)*W.diff(lam1)).subs([(lam1,R*fp(R)+f(R)), (lam2, f(R)), (lam3, f(R))])\n",
    "t2 = simplify(1./(lam1*lam3)*W.diff(lam2)).subs([(lam1,R*fp(R)+f(R)), (lam2, f(R)), (lam3, f(R))])\n",
    "t3 = simplify(1./(lam1*lam2)*W.diff(lam3)).subs([(lam1,R*fp(R)+f(R)), (lam2, f(R)), (lam3, f(R))])"
   ]
  },
  {
   "cell_type": "code",
   "execution_count": 5,
   "metadata": {},
   "outputs": [],
   "source": [
    "t1_func = lambdify((lam1, lam2, lam3), simplify(1./(lam2*lam3)*W.diff(lam1)), 'numpy')  #takes three arguments (lambda_1, lambda_2, lambda_3)"
   ]
  },
  {
   "cell_type": "code",
   "execution_count": 6,
   "metadata": {},
   "outputs": [
    {
     "data": {
      "image/png": "[encoded data removed]",
      "text/latex": [
       "$$\\frac{- 2.0 R^{4} \\kappa f^{4}{\\left (R \\right )} \\operatorname{f_{p}}^{4}{\\left (R \\right )} - 8.0 R^{3} \\kappa f^{5}{\\left (R \\right )} \\operatorname{f_{p}}^{3}{\\left (R \\right )} - 10.0 R^{2} \\kappa f^{6}{\\left (R \\right )} \\operatorname{f_{p}}^{2}{\\left (R \\right )} + 2.0 R^{2} \\mu \\left(R \\operatorname{f_{p}}{\\left (R \\right )} + f{\\left (R \\right )}\\right)^{\\alpha} \\operatorname{f_{p}}^{2}{\\left (R \\right )} - 2.0 R^{2} \\mu \\operatorname{f_{p}}^{2}{\\left (R \\right )} - 2 R \\alpha \\mu \\left(R \\operatorname{f_{p}}{\\left (R \\right )} + f{\\left (R \\right )}\\right)^{\\alpha} f{\\left (R \\right )} \\operatorname{f_{p}}{\\left (R \\right )} - 4.0 R \\kappa f^{7}{\\left (R \\right )} \\operatorname{f_{p}}{\\left (R \\right )} + 2.0 R \\mu \\left(R \\operatorname{f_{p}}{\\left (R \\right )} + f{\\left (R \\right )}\\right)^{\\alpha} f{\\left (R \\right )} \\operatorname{f_{p}}{\\left (R \\right )} - 4.0 R \\mu f{\\left (R \\right )} \\operatorname{f_{p}}{\\left (R \\right )} + 2.0 R \\mu f^{\\alpha + 1}{\\left (R \\right )} \\operatorname{f_{p}}{\\left (R \\right )} - 2.0 \\mu \\left(R \\operatorname{f_{p}}{\\left (R \\right )} + f{\\left (R \\right )}\\right)^{\\alpha} f^{2}{\\left (R \\right )} + 2.0 \\mu f^{\\alpha + 2}{\\left (R \\right )}}{R^{2} \\left(R^{2} \\kappa f^{4}{\\left (R \\right )} \\operatorname{f_{p}}^{2}{\\left (R \\right )} + 2.0 R \\kappa f^{5}{\\left (R \\right )} \\operatorname{f_{p}}{\\left (R \\right )} + \\alpha \\mu \\left(R \\operatorname{f_{p}}{\\left (R \\right )} + f{\\left (R \\right )}\\right)^{\\alpha} + \\kappa f^{6}{\\left (R \\right )} - \\mu \\left(R \\operatorname{f_{p}}{\\left (R \\right )} + f{\\left (R \\right )}\\right)^{\\alpha} + \\mu\\right) f{\\left (R \\right )}}$$"
      ],
      "text/plain": [
       "       4    4      4           3    5      3            2    6      2         \n",
       "- 2.0⋅R ⋅κ⋅f (R)⋅fₚ (R) - 8.0⋅R ⋅κ⋅f (R)⋅fₚ (R) - 10.0⋅R ⋅κ⋅f (R)⋅fₚ (R) + 2.0\n",
       "──────────────────────────────────────────────────────────────────────────────\n",
       "                                                                              \n",
       "                                                                              \n",
       "\n",
       "  2                   α   2           2     2                              α  \n",
       "⋅R ⋅μ⋅(R⋅fₚ(R) + f(R)) ⋅fₚ (R) - 2.0⋅R ⋅μ⋅fₚ (R) - 2⋅R⋅α⋅μ⋅(R⋅fₚ(R) + f(R)) ⋅f\n",
       "──────────────────────────────────────────────────────────────────────────────\n",
       "                              2 ⎛ 2    4      2               5               \n",
       "                             R ⋅⎝R ⋅κ⋅f (R)⋅fₚ (R) + 2.0⋅R⋅κ⋅f (R)⋅fₚ(R) + α⋅μ\n",
       "\n",
       "                     7                                    α                   \n",
       "(R)⋅fₚ(R) - 4.0⋅R⋅κ⋅f (R)⋅fₚ(R) + 2.0⋅R⋅μ⋅(R⋅fₚ(R) + f(R)) ⋅f(R)⋅fₚ(R) - 4.0⋅R\n",
       "──────────────────────────────────────────────────────────────────────────────\n",
       "                 α      6                        α    ⎞                       \n",
       "⋅(R⋅fₚ(R) + f(R))  + κ⋅f (R) - μ⋅(R⋅fₚ(R) + f(R))  + μ⎠⋅f(R)                  \n",
       "\n",
       "                         α + 1                                  α  2          \n",
       "⋅μ⋅f(R)⋅fₚ(R) + 2.0⋅R⋅μ⋅f     (R)⋅fₚ(R) - 2.0⋅μ⋅(R⋅fₚ(R) + f(R)) ⋅f (R) + 2.0⋅\n",
       "──────────────────────────────────────────────────────────────────────────────\n",
       "                                                                              \n",
       "                                                                              \n",
       "\n",
       "   α + 2   \n",
       "μ⋅f     (R)\n",
       "───────────\n",
       "           \n",
       "           "
      ]
     },
     "execution_count": 6,
     "metadata": {},
     "output_type": "execute_result"
    }
   ],
   "source": [
    "# Calculate the second derivative f''(R), which will be helpful later on to impose BC and \n",
    "# solve the resulting 1st-order system\n",
    "\n",
    "fpp = simplify(solve(t1.diff(R)+2./R*(t1-t2),fp(R).diff(R))[0])\n",
    "fpp = simplify(fpp.subs(f(R).diff(R), fp(R)))\n",
    "fpp"
   ]
  },
  {
   "cell_type": "code",
   "execution_count": 7,
   "metadata": {},
   "outputs": [
    {
     "name": "stdout",
     "output_type": "stream",
     "text": [
      "(-2.0*R**4*kappa*f(R)**4*f_p(R)**4 - 8.0*R**3*kappa*f(R)**5*f_p(R)**3 - 10.0*R**2*kappa*f(R)**6*f_p(R)**2 + 2.0*R**2*mu*(R*f_p(R) + f(R))**alpha*f_p(R)**2 - 2.0*R**2*mu*f_p(R)**2 - 2*R*alpha*mu*(R*f_p(R) + f(R))**alpha*f(R)*f_p(R) - 4.0*R*kappa*f(R)**7*f_p(R) + 2.0*R*mu*(R*f_p(R) + f(R))**alpha*f(R)*f_p(R) - 4.0*R*mu*f(R)*f_p(R) + 2.0*R*mu*f(R)**(alpha + 1)*f_p(R) - 2.0*mu*(R*f_p(R) + f(R))**alpha*f(R)**2 + 2.0*mu*f(R)**(alpha + 2))/(R**2*(R**2*kappa*f(R)**4*f_p(R)**2 + 2.0*R*kappa*f(R)**5*f_p(R) + alpha*mu*(R*f_p(R) + f(R))**alpha + kappa*f(R)**6 - mu*(R*f_p(R) + f(R))**alpha + mu)*f(R))\n"
     ]
    }
   ],
   "source": []
  },
  {
   "cell_type": "code",
   "execution_count": null,
   "metadata": {},
   "outputs": [],
   "source": [
    "def ode_sys(r, z):\n",
    "    \"\"\"\n",
    "    Let's call the state variable as z = [f, f']\n",
    "        -- implies z' = [f', f''], where f'' comes from the ode\n",
    "    \"\"\"\n",
    "    mu, kappa, alpha = 1., 20., 2.5\n",
    "    f_r, fp_r = z\n",
    "    fpp_r = (-2.0*r**4*kappa*f_r**4*fp_r**4 - 8.0*r**3*kappa*f_r**5*fp_r**3 - 10.0*r**2*kappa*f_r**6*fp_r**2 + 2.0*r**2*mu*(r*fp_r + f_r)**alpha*fp_r**2 - 2.0*r**2*mu*fp_r**2 - 2*r*alpha*mu*(r*fp_r + f_r)**alpha*f_r*fp_r - 4.0*r*kappa*f_r**7*fp_r + 6.0*r*mu*(r*fp_r + f_r)**alpha*f_r*fp_r - 4.0*r*mu*f_r*fp_r - 2.0*r*mu*f_r**(alpha + 1)*fp_r + 2.0*mu*(r*fp_r + f_r)**alpha*f_r**2 - 2.0*mu*f_r**(alpha + 2))/(r**2*(r**2*kappa*f_r**4*fp_r**2 + 2.0*r*kappa*f_r**5*fp_r + alpha*mu*(r*fp_r + f_r)**alpha + kappa*f_r**6 - mu*(r*fp_r + f_r)**alpha + mu)*f_r)\n",
    "    return [fp_r, fpp_r]"
   ]
  },
  {
   "cell_type": "code",
   "execution_count": null,
   "metadata": {},
   "outputs": [],
   "source": [
    "def bc_z(za, zb):\n",
    "    mu, kappa, alpha = 1., 20., 2.5\n",
    "    A = 0.95\n",
    "    B = 1.\n",
    "    f_A, fp_A = za\n",
    "    f_B, fp_B = zb\n",
    "    \n",
    "#     include the boundary condition in terms of the cauchy pressure\n",
    "    bc_inside = p + t1_func(A*fp_A + f_A, f_A, f_A)\n",
    "    bc_outside = t1_func(B*fp_B + f_B, f_B, f_B)\n",
    "    return [bc_inside, bc_outside]"
   ]
  },
  {
   "cell_type": "code",
   "execution_count": null,
   "metadata": {},
   "outputs": [],
   "source": [
    "A = 0.95\n",
    "B = 1.\n",
    "pvals = np.linspace(0,0.09*10**6,100)\n",
    "rVals = np.linspace(A,B,1000)\n",
    "z_a = np.ones((2, rVals.size))\n",
    "z_a[1] = 2.\n",
    "rB = np.zeros(pvals.shape)\n",
    "rVals_plot = np.linspace(A,B,10**4)\n"
   ]
  },
  {
   "cell_type": "code",
   "execution_count": null,
   "metadata": {},
   "outputs": [],
   "source": [
    "for idx, p in enumerate(pvals):\n",
    "    z_a = np.ones((2, rVals.size))*(1+p**(1./4))\n",
    "    z_a[1] = 1./(1+p**(1./4))\n",
    "    res_a = solve_bvp(ode_sys,bc_z, rVals, z_a,tol=1.e-8, max_nodes = 1.e8,verbose=1)\n",
    "    rB[idx] = res_a.sol(rVals_plot)[0][-1]"
   ]
  },
  {
   "cell_type": "code",
   "execution_count": null,
   "metadata": {},
   "outputs": [],
   "source": [
    "np.linspace(0,1,11)"
   ]
  },
  {
   "cell_type": "code",
   "execution_count": null,
   "metadata": {},
   "outputs": [],
   "source": [
    "90000**(0.25)"
   ]
  },
  {
   "cell_type": "code",
   "execution_count": null,
   "metadata": {},
   "outputs": [],
   "source": []
  }
 ],
 "metadata": {
  "kernelspec": {
   "display_name": "Python 3",
   "language": "python",
   "name": "python3"
  },
  "language_info": {
   "codemirror_mode": {
    "name": "ipython",
    "version": 3
   },
   "file_extension": ".py",
   "mimetype": "text/x-python",
   "name": "python",
   "nbconvert_exporter": "python",
   "pygments_lexer": "ipython3",
   "version": "3.6.6"
  }
 },
 "nbformat": 4,
 "nbformat_minor": 2
}
