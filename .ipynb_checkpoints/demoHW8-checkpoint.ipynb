{
 "cells": [
  {
   "cell_type": "markdown",
   "metadata": {},
   "source": [
    "### Demo HW7: Brachistochrone"
   ]
  },
  {
   "cell_type": "markdown",
   "metadata": {},
   "source": [
    "The euler lagrange equation for the variational problem $$\\min_{y(x)} \\int\\limits_\\Omega\\mathcal{F}\\left({y,y^\\prime; x}\\right) $$ is given by $$\\frac{\\partial\\mathcal{F}}{\\partial y} - \\frac{\\rm d}{\\rm dx}\\left(\\frac{\\partial\\mathcal{F}}{\\partial y^{\\prime}} \\right) = 0 $$"
   ]
  },
  {
   "cell_type": "markdown",
   "metadata": {},
   "source": [
    "Now, for the specific case when $$\\mathcal{F}\\left(y,y';x \\right) = \\sqrt{\\frac{1+y'^2}{y}} $$we arrived at the following ODE for $y(x)$ $$y(1+y'^2) = K$$A natural way forward would be to keep integrating as suggested by one of you in the class. Indeed after rearranging the ODE as $$\\int_\\limits{0}^y\\sqrt{\\frac{y}{K-y}} dy = \\int\\limits_0^x dx, $$using the substitution $y=K\\cos^2\\theta$ and proceeding to find $x(\\theta)$, we get the desired solution. This should be straightforward. "
   ]
  }
 ],
 "metadata": {
  "kernelspec": {
   "display_name": "Python 3",
   "language": "python",
   "name": "python3"
  },
  "language_info": {
   "codemirror_mode": {
    "name": "ipython",
    "version": 3
   },
   "file_extension": ".py",
   "mimetype": "text/x-python",
   "name": "python",
   "nbconvert_exporter": "python",
   "pygments_lexer": "ipython3",
   "version": "3.6.6"
  }
 },
 "nbformat": 4,
 "nbformat_minor": 2
}
