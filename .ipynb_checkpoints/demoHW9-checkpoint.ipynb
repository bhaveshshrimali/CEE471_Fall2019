{
 "cells": [
  {
   "cell_type": "markdown",
   "metadata": {},
   "source": [
<<<<<<< HEAD
    "# Demo HW9: Finite Elements (Rayleigh-Ritz) and Stability"
=======
    "# Demo HW9: Finite Elements and Stability"
>>>>>>> 7a5ea098f3b9891342717e7f40ea2f62550bad18
   ]
  },
  {
   "cell_type": "code",
<<<<<<< HEAD
   "execution_count": 1,
   "metadata": {},
   "outputs": [],
   "source": [
    "from sympy import *\n",
    "import numpy as np\n",
    "import matplotlib.pyplot as plt\n",
=======
   "execution_count": 34,
   "metadata": {},
   "outputs": [],
   "source": [
    "import numpy as np\n",
    "import matplotlib.pyplot as plt\n",
    "from sympy import abc, Symbol, lambdify, simplify, Array, Matrix, flatten, init_printing, zeros\n",
>>>>>>> 7a5ea098f3b9891342717e7f40ea2f62550bad18
    "plt.rc('text',usetex=True)\n",
    "init_printing()"
   ]
  },
  {
   "cell_type": "code",
<<<<<<< HEAD
   "execution_count": 2,
   "metadata": {},
   "outputs": [],
   "source": [
    "alph=zeros(6,1)\n",
    "for i in range(len(alph)):\n",
    "    alph[i] = Symbol('alpha_{}'.format(i+1),real=True)"
=======
   "execution_count": 17,
   "metadata": {},
   "outputs": [],
   "source": [
    "# class dN_dXi():\n",
    "#     def __init__(self,eltype,deg):\n",
    "#         deg = int(deg)\n",
    "#         if eltype == 'T':\n",
    "#             xi = Symbol('Xi',real=True)\n",
    "#             eta = Symbol('Eta',real=True)\n",
    "#             N1 = (1-xi-eta); N2 = xi; N3 = eta\n",
    "#             N = Array([N1, N2, N3])\n",
    "#             dfN = Matrix(flatten(N.diff(xi))).col_join(Matrix(flatten(N.diff(eta)))) + 1.e-22*Matrix(N).col_join(Matrix(N))\n",
    "#             self.Ns=lambdify((xi,eta),flatten(N),'numpy')\n",
    "#             self.dN=lambdify((xi,eta),dfN,'numpy')"
   ]
  },
  {
   "cell_type": "markdown",
   "metadata": {},
   "source": [
    "## Input the nodes and Geometry"
>>>>>>> 7a5ea098f3b9891342717e7f40ea2f62550bad18
   ]
  },
  {
   "cell_type": "code",
<<<<<<< HEAD
   "execution_count": 3,
=======
   "execution_count": 27,
   "metadata": {},
   "outputs": [],
   "source": [
    "l = 1.\n",
    "w = 1.\n",
    "nodes = np.array([[0.,0],\n",
    "                  [w,0],\n",
    "                  [w,l],\n",
    "                  [0.5*w,l],\n",
    "                  [0,l]])\n",
    "\n",
    "connectivity = np.array([[1,4,5],\n",
    "                         [1,2,4],\n",
    "                         [2,3,4]],int) -1"
   ]
  },
  {
   "cell_type": "code",
   "execution_count": 37,
   "metadata": {},
   "outputs": [],
   "source": [
    "x = Symbol('x',real=True)\n",
    "y = Symbol('y',real=True)\n",
    "alph = zeros(6,1)\n",
    "for idx,a in enumerate(alph):\n",
    "    alph[idx] = Symbol('alpha_{}'.format(idx+1),real=True)"
   ]
  },
  {
   "cell_type": "code",
   "execution_count": 38,
>>>>>>> 7a5ea098f3b9891342717e7f40ea2f62550bad18
   "metadata": {},
   "outputs": [
    {
     "data": {
<<<<<<< HEAD
      "image/png": "iVBORw0KGgoAAAANSUhEUgAAACYAAACWCAMAAACFKQrpAAAAOVBMVEX///8AAAAAAAAAAAAAAAAAAAAAAAAAAAAAAAAAAAAAAAAAAAAAAAAAAAAAAAAAAAAAAAAAAAAAAAACXHtMAAAAEnRSTlMAMquJZkQiEEAwdpnd71S7zXwMxcz0AAAACXBIWXMAAA7EAAAOxAGVKw4bAAACvElEQVRYCe2Y0a7bIAyGTUxgg6TpeP+HnU1qYkfQVdOJqh4dLhoSvhow/BgAV2qaoJuWvRTAFfSU5i4FXOSnwljoE8dX/+0wxJTd0cGWMz0NC/kurgHCrQF7xmAr8sctQ4qE+/vBaiwXKgXIdyDcpbT0sXWr33HFit/6WCy1TsCyt2yAQfEPa3tlIyzXqeSxQPXJCAPymieLGRPbG2J7ZfL7lVjAe8m1crau3Su1dZ4/2Mkp388hV8k5Ik5TFSK7kP32q/yu3jRyzvQpN6X+UZiRc6HlJBRZdhh7rL1Wzp4qPDA9WCc5A2CrVGMnOYNbTBfagm/lHLZGPVFWoKXCScDQlVavyE/YnHNZ7A2xtYYq+dMQE2B/vg2LPDDPU6DVsbl3jL6tCx/StqvkHJJPk+hvLOeJgmtaZfiUTsHI2ZElbNFejamVM9tZ9jhMOYWdo3O6t8hmsLOc49Y4be0UnXkiSlcNJv2iZ1yJCI9VxbZNUdR8mvh+ldk/sgYOU5pkbTBdMNbsy9Da1diPnJWHLx2Fq+TM7W/6G8uZqESx9pGGcgaYbwemHHKSc0yxi53knGCAGTnfwgjTcuawMrAm3eKnQ8RcUA4rqguaqvmwn0Y4/wTzW5lesabMP7GmqGeVnjHZcenvp7we01ORfv36tn1IPNVO0Pn/c8hVcg44z8dtBbdNktlsz2tZ9tOvFMsomOg8S/CrlOqplfPs5psENqsFs9mepxCbFMzsNXLmulxruKqUdgrq7MyainwaqMlgj2/1wfE7tNuZIcbOSO0yaIhFTHj4bYjpBliH2BLz9mPNuOOj/HaVnGnKp9Td9xo5w90NJGPkjHzGFsVoAVo5r7N7Qc70Hxdzv23qKqzujGNfgFrOVckv7KK5wn+r3vMJu3uut3Ms0RVmW7neKMCX7qJjvW4+Vnfblb3Qw1/NajAnhcpRQwAAAABJRU5ErkJggg==\n",
=======
      "image/png": "iVBORw0KGgoAAAANSUhEUgAAACYAAACWCAMAAACFKQrpAAAAOVBMVEX///8AAAAAAAAAAAAAAAAAAAAAAAAAAAAAAAAAAAAAAAAAAAAAAAAAAAAAAAAAAAAAAAAAAAAAAAACXHtMAAAAEnRSTlMAMquZdlQiEEAw3USJ77vNZmy+Gip5AAAACXBIWXMAAA7EAAAOxAGVKw4bAAAC+0lEQVRYCe2Y0bKjIAyGgyDsKlaW93/YTUAgccEeO7PTOWfKRdXyCQnwhwiomMoE3bLkWgAVtcEydykIVDdFwmyfaP/OPw7zxui1OVjvhKd2QcRtFhyNoXpUCgS2eKp4aDAOlNZLH9PRUYXeIeHrANtyL37zCR9gLqZGwMc8uwMMYkjG+C3bNMJ0WkrBR1AEjjDwPgRsUXtzieXOyu+wtQLk6zwYEEFZvcQpdU5/i1kQnHj4YGI4fuK43Zez1w+dFEZjI1YIl7PH0DjtZfg4JuS8INbCKGG/4u/0lpAzhRMbS9j504LqWc5kUTGOd3qSM8DS1cJJzuB18UB6KuUcGiWx+jLdrBh41hQl8IHbJii1z/P86LkgsC1tVeWvYWsFyNe3YQ7j+5NicT7aQhjCb3Phm9j2gpyNnursiOHlcta0edVtnGNCzhrXeEB15kJYV85U3Vq7krPbimKEZE5yNntVs8DOcmadchdOuzOFmpL6Cexwiy7JLnuYcSFnim9hK+M7ag2UN36qyeQQYwbg7duwj5zZRPzXWbgvZ7SsylSuEC7nY/UcbnAXhJxxnWNmWwphAzkb17CxnNUMDeOdSjljDOljQs4B5dLHuJwdBYYBVvzC66y915GCXCrctuOverE1v5DDW4F0Ex5xehZD5BtXrXHyyjbG3cDKnLK3z7dsTs9V/PlGp99kP+Xe8fvXPL0tZzUpS9+NuYhOuZxXzAbbmQZhJUQLOa+zKjsRNpgyLtqfsIhkuyapqYq+Lo/Jksn2imck/Q8BIWeLWXuoIYm7IORMfbU1wTEuZ6AOXf0QEFiy9vjBkwfcxIuzQ4xOClqKP8TQAkpsjjLGCpGuH0wMxxvTlbasTha1x9cm67accbV581zOsK9gj4MnOW5CzgYln/a3f9abkPNW9qEzJuUc56/I2dLxWTuX4uPG5Zwl2tcp/3ZOxPMseqcx67fW5hDtwjAzd88cOJV2+37gkph44p6KCvlwC/vSWbSj02ZjytmH7C6fRRsDfwE5ozP1UgA5RAAAAABJRU5ErkJggg==\n",
>>>>>>> 7a5ea098f3b9891342717e7f40ea2f62550bad18
      "text/latex": [
       "$$\\left[\\begin{matrix}\\alpha_{1}\\\\\\alpha_{2}\\\\\\alpha_{3}\\\\\\alpha_{4}\\\\\\alpha_{5}\\\\\\alpha_{6}\\end{matrix}\\right]$$"
      ],
      "text/plain": [
       "⎡α₁⎤\n",
       "⎢  ⎥\n",
       "⎢α₂⎥\n",
       "⎢  ⎥\n",
       "⎢α₃⎥\n",
       "⎢  ⎥\n",
       "⎢α₄⎥\n",
       "⎢  ⎥\n",
       "⎢α₅⎥\n",
       "⎢  ⎥\n",
       "⎣α₆⎦"
      ]
     },
<<<<<<< HEAD
     "execution_count": 3,
=======
     "execution_count": 38,
>>>>>>> 7a5ea098f3b9891342717e7f40ea2f62550bad18
     "metadata": {},
     "output_type": "execute_result"
    }
   ],
   "source": [
    "alph"
   ]
  },
  {
<<<<<<< HEAD
   "cell_type": "markdown",
   "metadata": {},
   "source": [
    "## Input material parameters and geometry"
   ]
  },
  {
   "cell_type": "code",
   "execution_count": 4,
   "metadata": {},
   "outputs": [],
   "source": [
    "l = w = 1.\n",
    "h = 0.01\n",
    "# l = Symbol('l',real=True)\n",
    "# w = Symbol('w',real=True)\n",
    "# h = Symbol('h',real=True)\n",
    "E = 1.e7\n",
    "P = 10. \n",
    "nu = 0.\n",
    "mu = E/2./(1+nu)\n",
    "lmbda = 2*mu*nu/(1-2.*nu)"
   ]
  },
  {
   "cell_type": "code",
   "execution_count": 5,
   "metadata": {},
   "outputs": [],
   "source": [
    "a1 = Symbol('a1',real=True)\n",
    "a2 = Symbol('a2',real=True)\n",
    "a3 = Symbol('a3',real=True)\n",
    "x = Symbol('x',real=True)\n",
    "y = Symbol('y',real=True)\n",
    "# Triangle 1\n",
    "sys1 = solve_linear_system(Matrix(( (1.,0,l,1), (1,0,0,0), (1.,0.5*w,l,0) )),a1,a2,a3)\n",
    "# sys2 = solve_linear_system(Matrix(( (1.,0,l,1), (1,0,0,0), (1.,0.5*w,l,0) )),a1,a2,a3)\n",
    "sys3 = solve_linear_system(Matrix(( (1.,0,l,0), (1,0,0,0), (1.,0.5*w,l,1) )),a1,a2,a3)\n",
    "N1_1 = sys1[a1] + sys1[a2]*x + sys1[a3]*y\n",
    "N3_1 = sys3[a1] + sys3[a2]*x + sys3[a3]*y"
   ]
  },
  {
   "cell_type": "code",
   "execution_count": 6,
   "metadata": {},
   "outputs": [],
   "source": [
    "# Triangle 2\n",
    "sys1 = solve_linear_system(Matrix(( (1.,0.5*w,l,1), (1,0,0,0), (1.,w,0,0) )),a1,a2,a3)\n",
    "# sys2 = solve_linear_system(Matrix(( (1.,0,l,1), (1,0,0,0), (1.,0.5*w,l,0) )),a1,a2,a3)\n",
    "# sys3 = solve_linear_system(Matrix(( (1.,0,l,0), (1,0,0,0), (1.,0.5*w,l,1) )),a1,a2,a3)\n",
    "N1_2 = sys1[a1] + sys1[a2]*x + sys1[a3]*y\n",
    "# N3 = sys3[a1] + sys3[a2]*x + sys3[a3]*y\n",
    "\n",
    "# Triangle 3\n",
    "sys1 = solve_linear_system(Matrix(( (1.,0.5*w,l,1), (1,w,0,0), (1.,w,l,0) )),a1,a2,a3)\n",
    "# sys2 = solve_linear_system(Matrix(( (1.,0,l,1), (1,0,0,0), (1.,0.5*w,l,0) )),a1,a2,a3)\n",
    "sys3 = solve_linear_system(Matrix(( (1.,0.5*w,l,0), (1,w,0,0), (1.,w,l,1) )),a1,a2,a3)\n",
    "N1_3 = sys1[a1] + sys1[a2]*x + sys1[a3]*y\n",
    "N3_3 = sys3[a1] + sys3[a2]*x + sys3[a3]*y"
   ]
  },
  {
   "cell_type": "code",
   "execution_count": 7,
   "metadata": {},
   "outputs": [],
   "source": [
    "u1 = N1_1*alph[0] + N3_1*alph[2]\n",
    "v1 = N1_1*alph[1] + N3_1*alph[3]\n",
    "\n",
    "u2 = N1_2*alph[2]# + N3_1*alph[2]\n",
    "v2 = N1_2*alph[3]# + N3_1*alph[3]\n",
    "\n",
    "u3 = N1_3*alph[2] + N3_3*alph[4]\n",
    "v3 = N1_3*alph[3] + N3_3*alph[5]"
   ]
  },
  {
   "cell_type": "code",
   "execution_count": 8,
   "metadata": {},
   "outputs": [],
   "source": [
    "eps_1 = simplify(Matrix([[u1.diff(x),0.5*(u1.diff(y)+v1.diff(x)) ], [0.5*(u1.diff(y)+v1.diff(x)),v1.diff(y)]]))\n",
    "eps_2 = simplify(Matrix([[u2.diff(x),0.5*(u2.diff(y)+v2.diff(x)) ], [0.5*(u2.diff(y)+v2.diff(x)),v2.diff(y)]]))\n",
    "eps_3 = simplify(Matrix([[u3.diff(x),0.5*(u3.diff(y)+v3.diff(x)) ], [0.5*(u3.diff(y)+v3.diff(x)),v3.diff(y)]]))"
   ]
  },
  {
   "cell_type": "code",
   "execution_count": 9,
   "metadata": {},
   "outputs": [],
   "source": [
    "A1 = A3 = 0.5*0.5*w*l\n",
    "A2 = 0.5*w*l\n",
    "Pi_e = 2*mu*trace(eps_1*eps_1)*A1*h + 2*mu*trace(eps_3*eps_3)*A3*h + 2*mu*trace(eps_2*eps_2)*A2*h - P*alph[4]\n",
    "Pi_e = simplify(Pi_e)"
   ]
  },
  {
   "cell_type": "code",
   "execution_count": 15,
   "metadata": {},
   "outputs": [],
   "source": [
    "alph_vals = solve(Pi_e.diff(alph),alph)"
   ]
  },
  {
   "cell_type": "code",
   "execution_count": 17,
   "metadata": {},
   "outputs": [],
   "source": [
    "u = alph.subs(alph_vals)"
   ]
  },
  {
   "cell_type": "code",
   "execution_count": 25,
   "metadata": {},
   "outputs": [],
   "source": [
    "u_def = np.array(u*10**3)"
   ]
  },
  {
   "cell_type": "code",
   "execution_count": 26,
   "metadata": {},
   "outputs": [],
   "source": [
    "xnodes = np.array([0.,w,w,0.5*w,0.])\n",
    "ynodes = np.array([0.,0.,l,l,l])\n",
    "conn = [[0,3,4],[0,1,3],[1,2,3]]\n",
    "xnodes\n",
    "import matplotlib.tri as tri\n",
    "triangles = tri.Triangulation(xnodes,ynodes,triangles=conn)\n",
    "xnodes_def = np.array([0.,w,w+u_def[-2],0.5*w+u_def[-4],u_def[0]])\n",
    "ynodes_def = np.array([0.,0.,l+u_def[-1],l+u_def[-3],l+u_def[-5]])\n",
    "triangles_def = tri.Triangulation(xnodes_def,ynodes_def,triangles=conn)"
   ]
  },
  {
   "cell_type": "code",
   "execution_count": null,
   "metadata": {},
   "outputs": [],
   "source": []
=======
   "cell_type": "code",
   "execution_count": null,
   "metadata": {},
   "outputs": [],
   "source": [
    "# Triangle 1\n",
    "N1 = "
   ]
>>>>>>> 7a5ea098f3b9891342717e7f40ea2f62550bad18
  }
 ],
 "metadata": {
  "kernelspec": {
   "display_name": "Python 3",
   "language": "python",
   "name": "python3"
  },
  "language_info": {
   "codemirror_mode": {
    "name": "ipython",
    "version": 3
   },
   "file_extension": ".py",
   "mimetype": "text/x-python",
   "name": "python",
   "nbconvert_exporter": "python",
   "pygments_lexer": "ipython3",
<<<<<<< HEAD
   "version": "3.6.6"
=======
   "version": "3.6.9"
>>>>>>> 7a5ea098f3b9891342717e7f40ea2f62550bad18
  }
 },
 "nbformat": 4,
 "nbformat_minor": 2
}
