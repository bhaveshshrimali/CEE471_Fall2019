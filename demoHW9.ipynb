{
 "cells": [
  {
   "cell_type": "markdown",
   "metadata": {},
   "source": [
    "# Demo HW9: Finite Elements and Stability"
   ]
  },
  {
   "cell_type": "code",
   "execution_count": 34,
   "metadata": {},
   "outputs": [],
   "source": [
    "import numpy as np\n",
    "import matplotlib.pyplot as plt\n",
    "from sympy import abc, Symbol, lambdify, simplify, Array, Matrix, flatten, init_printing, zeros\n",
    "plt.rc('text',usetex=True)\n",
    "init_printing()"
   ]
  },
  {
   "cell_type": "code",
   "execution_count": 17,
   "metadata": {},
   "outputs": [],
   "source": [
    "# class dN_dXi():\n",
    "#     def __init__(self,eltype,deg):\n",
    "#         deg = int(deg)\n",
    "#         if eltype == 'T':\n",
    "#             xi = Symbol('Xi',real=True)\n",
    "#             eta = Symbol('Eta',real=True)\n",
    "#             N1 = (1-xi-eta); N2 = xi; N3 = eta\n",
    "#             N = Array([N1, N2, N3])\n",
    "#             dfN = Matrix(flatten(N.diff(xi))).col_join(Matrix(flatten(N.diff(eta)))) + 1.e-22*Matrix(N).col_join(Matrix(N))\n",
    "#             self.Ns=lambdify((xi,eta),flatten(N),'numpy')\n",
    "#             self.dN=lambdify((xi,eta),dfN,'numpy')"
   ]
  },
  {
   "cell_type": "markdown",
   "metadata": {},
   "source": [
    "## Input the nodes and Geometry"
   ]
  },
  {
   "cell_type": "code",
   "execution_count": 27,
   "metadata": {},
   "outputs": [],
   "source": [
    "l = 1.\n",
    "w = 1.\n",
    "nodes = np.array([[0.,0],\n",
    "                  [w,0],\n",
    "                  [w,l],\n",
    "                  [0.5*w,l],\n",
    "                  [0,l]])\n",
    "\n",
    "connectivity = np.array([[1,4,5],\n",
    "                         [1,2,4],\n",
    "                         [2,3,4]],int) -1"
   ]
  },
  {
   "cell_type": "code",
   "execution_count": 37,
   "metadata": {},
   "outputs": [],
   "source": [
    "x = Symbol('x',real=True)\n",
    "y = Symbol('y',real=True)\n",
    "alph = zeros(6,1)\n",
    "for idx,a in enumerate(alph):\n",
    "    alph[idx] = Symbol('alpha_{}'.format(idx+1),real=True)"
   ]
  },
  {
   "cell_type": "code",
   "execution_count": 38,
   "metadata": {},
   "outputs": [
    {
     "data": {
      "image/png": "[encoded data removed]",
      "text/latex": [
       "$$\\left[\\begin{matrix}\\alpha_{1}\\\\\\alpha_{2}\\\\\\alpha_{3}\\\\\\alpha_{4}\\\\\\alpha_{5}\\\\\\alpha_{6}\\end{matrix}\\right]$$"
      ],
      "text/plain": [
       "⎡α₁⎤\n",
       "⎢  ⎥\n",
       "⎢α₂⎥\n",
       "⎢  ⎥\n",
       "⎢α₃⎥\n",
       "⎢  ⎥\n",
       "⎢α₄⎥\n",
       "⎢  ⎥\n",
       "⎢α₅⎥\n",
       "⎢  ⎥\n",
       "⎣α₆⎦"
      ]
     },
     "execution_count": 38,
     "metadata": {},
     "output_type": "execute_result"
    }
   ],
   "source": [
    "alph"
   ]
  },
  {
   "cell_type": "code",
   "execution_count": null,
   "metadata": {},
   "outputs": [],
   "source": [
    "# Triangle 1\n",
    "N1 = "
   ]
  }
 ],
 "metadata": {
  "kernelspec": {
   "display_name": "Python 3",
   "language": "python",
   "name": "python3"
  },
  "language_info": {
   "codemirror_mode": {
    "name": "ipython",
    "version": 3
   },
   "file_extension": ".py",
   "mimetype": "text/x-python",
   "name": "python",
   "nbconvert_exporter": "python",
   "pygments_lexer": "ipython3",
   "version": "3.6.9"
  }
 },
 "nbformat": 4,
 "nbformat_minor": 2
}
