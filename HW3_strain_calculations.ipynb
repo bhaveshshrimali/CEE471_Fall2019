{
 "cells": [
  {
   "cell_type": "code",
   "execution_count": 11,
   "metadata": {},
   "outputs": [],
   "source": [
    "from sympy import * \n",
    "init_printing()"
   ]
  },
  {
   "cell_type": "code",
   "execution_count": 12,
   "metadata": {},
   "outputs": [],
   "source": [
    "t = Symbol('t'); X1 = Symbol('X_1');X2 = Symbol('X_2')"
   ]
  },
  {
   "cell_type": "code",
   "execution_count": 13,
   "metadata": {},
   "outputs": [],
   "source": [
    "f = 1/2 * (sqrt(32*X1 + (8-t)**2))\n",
    "g = X2/4\n",
    "fp = f.diff(X1)\n",
    "gp =g.diff(X2)"
   ]
  },
  {
   "cell_type": "code",
   "execution_count": 14,
   "metadata": {},
   "outputs": [],
   "source": [
    "F = Matrix([[fp*cos(g), -f*gp*sin(g),0],[fp*sin(g), f*gp*cos(g), 0], [0, 0, 1]])"
   ]
  },
  {
   "cell_type": "code",
   "execution_count": 18,
   "metadata": {},
   "outputs": [],
   "source": [
    "E = simplify(0.5*(F.T*F - eye(3)))"
   ]
  },
  {
   "cell_type": "code",
   "execution_count": 20,
   "metadata": {},
   "outputs": [],
   "source": [
    "e = simplify(0.5*(eye(3) - F.inv().T*F.inv()))"
   ]
  },
  {
   "cell_type": "code",
   "execution_count": 25,
   "metadata": {},
   "outputs": [
    {
     "data": {
      "image/png": "[encoded data removed]",
      "text/latex": [
       "$$\\left[\\begin{matrix}\\frac{- 16.0 X_{1} - 0.5 t^{2} + 8.0 t}{32 X_{1} + \\left(t - 8\\right)^{2}} & 0 & 0\\\\0 & 0.25 X_{1} + 0.0078125 t^{2} - 0.125 t & 0\\\\0 & 0 & 0\\end{matrix}\\right]$$"
      ],
      "text/plain": [
       "⎡                2                                             ⎤\n",
       "⎢-16.0⋅X₁ - 0.5⋅t  + 8.0⋅t                                     ⎥\n",
       "⎢─────────────────────────                 0                  0⎥\n",
       "⎢                    2                                         ⎥\n",
       "⎢     32⋅X₁ + (t - 8)                                          ⎥\n",
       "⎢                                                              ⎥\n",
       "⎢                                                2             ⎥\n",
       "⎢            0              0.25⋅X₁ + 0.0078125⋅t  - 0.125⋅t  0⎥\n",
       "⎢                                                              ⎥\n",
       "⎣            0                             0                  0⎦"
      ]
     },
     "execution_count": 25,
     "metadata": {},
     "output_type": "execute_result"
    }
   ],
   "source": [
    "E"
   ]
  },
  {
   "cell_type": "code",
   "execution_count": 26,
   "metadata": {},
   "outputs": [
    {
     "data": {
      "image/png": "[encoded data removed]",
      "text/latex": [
       "$$\\left[\\begin{matrix}\\frac{\\left(16.0 X_{1} + 0.5 \\left(t - 8\\right)^{2}\\right) \\cos^{2}{\\left (\\frac{X_{2}}{4} \\right )} - 0.0078125 \\left(32 X_{1} + \\left(t - 8\\right)^{2}\\right)^{2} \\cos^{4}{\\left (\\frac{X_{2}}{4} \\right )} + 4.0 \\cos{\\left (X_{2} \\right )} - 4.0}{\\left(32 X_{1} + \\left(t - 8\\right)^{2}\\right) \\cos^{2}{\\left (\\frac{X_{2}}{4} \\right )}} & \\frac{\\left(- 8.0 X_{1}^{2} - 0.5 X_{1} t^{2} + 8.0 X_{1} t - 32.0 X_{1} - 0.0078125 t^{4} + 0.25 t^{3} - 3.0 t^{2} + 16.0 t\\right) \\sin{\\left (\\frac{X_{2}}{2} \\right )}}{2 \\left(32 X_{1} + \\left(t - 8\\right)^{2}\\right)} & 0\\\\\\frac{\\left(- 8.0 X_{1}^{2} - 0.5 X_{1} t^{2} + 8.0 X_{1} t - 32.0 X_{1} - 0.0078125 t^{4} + 0.25 t^{3} - 3.0 t^{2} + 16.0 t\\right) \\sin{\\left (\\frac{X_{2}}{2} \\right )}}{2 \\left(32 X_{1} + \\left(t - 8\\right)^{2}\\right)} & \\frac{\\left(32 X_{1} + \\left(t - 8\\right)^{2}\\right) \\left(- \\left(0.25 X_{1} + 0.0078125 \\left(t - 8\\right)^{2}\\right) \\sin^{2}{\\left (\\frac{X_{2}}{4} \\right )} + 0.5\\right) - 32.0 \\cos^{2}{\\left (\\frac{X_{2}}{4} \\right )}}{32 X_{1} + \\left(t - 8\\right)^{2}} & 0\\\\0 & 0 & 0\\end{matrix}\\right]$$"
      ],
      "text/plain": [
       "⎡                                                                2            \n",
       "⎢⎛                     2⎞    2⎛X₂⎞             ⎛               2⎞     4⎛X₂⎞   \n",
       "⎢⎝16.0⋅X₁ + 0.5⋅(t - 8) ⎠⋅cos ⎜──⎟ - 0.0078125⋅⎝32⋅X₁ + (t - 8) ⎠ ⋅cos ⎜──⎟ + \n",
       "⎢                             ⎝4 ⎠                                     ⎝4 ⎠   \n",
       "⎢─────────────────────────────────────────────────────────────────────────────\n",
       "⎢                                 ⎛               2⎞    2⎛X₂⎞                 \n",
       "⎢                                 ⎝32⋅X₁ + (t - 8) ⎠⋅cos ⎜──⎟                 \n",
       "⎢                                                        ⎝4 ⎠                 \n",
       "⎢                                                                             \n",
       "⎢⎛        2           2                                   4         3        2\n",
       "⎢⎝- 8.0⋅X₁  - 0.5⋅X₁⋅t  + 8.0⋅X₁⋅t - 32.0⋅X₁ - 0.0078125⋅t  + 0.25⋅t  - 3.0⋅t \n",
       "⎢                                                                             \n",
       "⎢─────────────────────────────────────────────────────────────────────────────\n",
       "⎢                                        ⎛               2⎞                   \n",
       "⎢                                      2⋅⎝32⋅X₁ + (t - 8) ⎠                   \n",
       "⎢                                                                             \n",
       "⎣                                               0                             \n",
       "\n",
       "                                                                              \n",
       "                    ⎛        2           2                                   4\n",
       "4.0⋅cos(X₂) - 4.0   ⎝- 8.0⋅X₁  - 0.5⋅X₁⋅t  + 8.0⋅X₁⋅t - 32.0⋅X₁ - 0.0078125⋅t \n",
       "                                                                              \n",
       "─────────────────   ──────────────────────────────────────────────────────────\n",
       "                                                            ⎛               2⎞\n",
       "                                                          2⋅⎝32⋅X₁ + (t - 8) ⎠\n",
       "                                                                              \n",
       "                                                                              \n",
       "         ⎞    ⎛X₂⎞       ⎛               2⎞ ⎛  ⎛                           2⎞ \n",
       " + 16.0⋅t⎠⋅sin⎜──⎟       ⎝32⋅X₁ + (t - 8) ⎠⋅⎜- ⎝0.25⋅X₁ + 0.0078125⋅(t - 8) ⎠⋅\n",
       "              ⎝2 ⎠                          ⎝                                 \n",
       "──────────────────       ─────────────────────────────────────────────────────\n",
       "                                                                          2   \n",
       "                                                           32⋅X₁ + (t - 8)    \n",
       "                                                                              \n",
       "                                                                   0          \n",
       "\n",
       "                                        ⎤\n",
       "         3        2         ⎞    ⎛X₂⎞   ⎥\n",
       " + 0.25⋅t  - 3.0⋅t  + 16.0⋅t⎠⋅sin⎜──⎟   ⎥\n",
       "                                 ⎝2 ⎠   ⎥\n",
       "─────────────────────────────────────  0⎥\n",
       "                                        ⎥\n",
       "                                        ⎥\n",
       "                                        ⎥\n",
       "                                        ⎥\n",
       "   2⎛X₂⎞      ⎞           2⎛X₂⎞         ⎥\n",
       "sin ⎜──⎟ + 0.5⎟ - 32.0⋅cos ⎜──⎟         ⎥\n",
       "    ⎝4 ⎠      ⎠            ⎝4 ⎠         ⎥\n",
       "───────────────────────────────        0⎥\n",
       "                                        ⎥\n",
       "                                        ⎥\n",
       "                                        ⎥\n",
       "                                       0⎦"
      ]
     },
     "execution_count": 26,
     "metadata": {},
     "output_type": "execute_result"
    }
   ],
   "source": [
    "e"
   ]
  },
  {
   "cell_type": "code",
   "execution_count": null,
   "metadata": {},
   "outputs": [],
   "source": []
  }
 ],
 "metadata": {
  "kernelspec": {
   "display_name": "Python 3",
   "language": "python",
   "name": "python3"
  },
  "language_info": {
   "codemirror_mode": {
    "name": "ipython",
    "version": 3
   },
   "file_extension": ".py",
   "mimetype": "text/x-python",
   "name": "python",
   "nbconvert_exporter": "python",
   "pygments_lexer": "ipython3",
   "version": "3.6.6"
  }
 },
 "nbformat": 4,
 "nbformat_minor": 2
}
