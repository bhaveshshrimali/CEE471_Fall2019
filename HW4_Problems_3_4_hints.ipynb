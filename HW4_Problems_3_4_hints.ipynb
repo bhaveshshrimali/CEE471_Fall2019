{
 "cells": [
  {
   "cell_type": "markdown",
   "metadata": {},
   "source": [
    "Start from the LHS by calculating the volume average of the Cauchy stress tensor $\\left< \\bf T \\right>$"
   ]
  },
  {
   "cell_type": "markdown",
   "metadata": {},
   "source": [
    "We know that: \n",
    "${\\bf T} = {J}^{-1}{\\bf S}{\\bf F}^T$, so let us take the volume average (over the deformed volume on both sides)\n",
    "$$\\overline{\\bf T} = \\left< \\bf T \\right> = \\frac{1}{\\left| \\Omega \\right|}\\int_{\\Omega}{\\bf T} d\\Omega  = \\frac{1}{\\left| \\Omega \\right|} \\int_{\\Omega}\n",
    "{J}^{-1}{\\bf S}{\\bf F}^T d\\Omega$$"
   ]
  },
  {
   "cell_type": "markdown",
   "metadata": {},
   "source": [
    "Remember the relation between infinitesimal volume elements: $$ d\\Omega = J d\\Omega_0 \\implies J^{-1} d\\Omega = d\\Omega_0$$ where $d\\Omega$ and $d\\Omega_0$ refer to the infinitesimal volume elements in the deformed and undeformed configurations and $J$ is the determinant of the deformation gradient $\\bf F$. If you substitute this above (notice the change of limits just like you would have in integration) you get the following \n",
    "$$\\left< \\bf T \\right> = \\frac{1}{\\left| \\Omega\\right|}\\int_{\\Omega_0} {\\bf S F}^Td\\Omega_0 $$"
   ]
  },
  {
   "cell_type": "markdown",
   "metadata": {},
   "source": [
    "Now if you closely look at the RHS (you know that you have to use the divergence theorem and balance of linear momentum; because those are the only things that you know) and rewrite things in indicial notation\n",
    "$$\\frac{1}{\\left| \\Omega\\right|} \\int_{\\Omega_0}\n",
    "S_{ik}F_{jk}d\\Omega_0 =\n",
    "\\frac{1}{\\left| \\Omega\\right|} \\int_{\\Omega_0}\n",
    "S_{ik}\\frac{\\partial x_j}{\\partial X_k} d\\Omega\n",
    "$$"
   ]
  },
  {
   "cell_type": "markdown",
   "metadata": {},
   "source": [
    "Now, for using the divergence theorem, you will need to have \"a derivative\" integrated over the entire volume, so you could write the RHS equivalently (remember integration by parts!!) as \n",
    "$$ \n",
    "\\frac{1}{\\left| \\Omega\\right|} \\int_{\\Omega_0}\n",
    "\\left\\{\n",
    "\\frac{\\partial}{\\partial X_k}\\left( \n",
    "S_{ik}x_j\n",
    "\\right) - \n",
    "x_j \\frac{\\partial S_{ik}}{\\partial X_k}\n",
    "\\right\\} d\\Omega_0\n",
    "$$"
   ]
  },
  {
   "cell_type": "markdown",
   "metadata": {},
   "source": [
    "You know from \"Balance of linear momentum\" div$({\\bf S}) = {\\bf 0}$, so the second term goes off and once you apply divergence theorem to the first, you are left with \n",
    "$$ \n",
    "\\frac{1}{\\left| \\Omega\\right|} \\int_{\\partial\\Omega_0}\n",
    "S_{ik}N_k x_j d\\Omega_0\n",
    "$$"
   ]
  },
  {
   "cell_type": "markdown",
   "metadata": {},
   "source": [
    "At this point you have exhausted pretty much everything that you know by now, except: \n",
    "$$\n",
    "\\frac{1}{\\left| \\Omega\\right|} = \\frac{\\left|\\Omega_0 \\right|}{\\left| \\Omega_0\\right|} \\frac{1}{\\left| \\Omega\\right|}\n",
    "$$\n",
    "which, if you carefully notice, gives\n",
    "$$\\frac{1}{\\left| \\Omega\\right|} = \n",
    "\\overline{J}^{-1}\\frac{1}{\\left| \\Omega_0\\right|}\n",
    "$$"
   ]
  },
  {
   "cell_type": "markdown",
   "metadata": {},
   "source": [
    "Substitute this above and you get in the RHS \n",
    "$$ \n",
    "\\overline{J}^{-1}\\frac{1}{\\left| \\Omega_0\\right|} \\int_{\\partial\\Omega_0}\n",
    "S_{ik}N_kx_jd\\Omega_0\n",
    "$$"
   ]
  },
  {
   "cell_type": "markdown",
   "metadata": {},
   "source": [
    "At this stage there is nothing that remains that you can use to potentially prove the result, which gives you a hint that you need to disprove the result!! Now that you are already on the boundary ($\\partial\\Omega_0$) there could be other types of boundary conditions that you could use. Instead of applying traction/force on the boundary, what other boundary conditions can you prescribe? Apply displacements? So a potential candidate could be \n",
    "$$ {\\bf x} = \\widetilde{\\mathcal{M}}{\\bf X}\\quad \\text{on}\\quad \\partial\\Omega_0$$where, of course, $\\widetilde{M}_{ij}$ is constant on the boundary ($\\partial\\Omega_0$)"
   ]
  },
  {
   "cell_type": "markdown",
   "metadata": {},
   "source": [
    "You can substitute this above to get on the RHS\n",
    "$$ \n",
    "\\overline{J}^{-1}\\frac{1}{\\left| \\Omega_0\\right|} \\int_{\\partial\\Omega_0}\n",
    "S_{ik}N_k \\widetilde{M}_{jl} X_ld\\Omega_0\n",
    "$$"
   ]
  },
  {
   "cell_type": "markdown",
   "metadata": {},
   "source": [
    "Or \n",
    "$$ \n",
    "\\overline{J}^{-1}\\widetilde{M}_{jl}\n",
    "\\frac{1}{\\left| \\Omega_0\\right|} \\int_{\\partial\\Omega_0}\n",
    "S_{ik}N_k X_ld\\Omega_0\n",
    "$$apply divergence theorem again to get\n",
    "$$\n",
    "\\frac{1}{\\left| \\Omega_0\\right|} \\int_{\\partial\\Omega_0}\n",
    "S_{ik}X_lN_kd\\Omega_0\n",
    "=\n",
    "\\frac{1}{\\left| \\Omega_0\\right|} \\int_{\\Omega_0}\n",
    "\\frac{\\partial}{\\partial X_k}\n",
    "\\left( \n",
    "S_{ik}X_l\n",
    "\\right)\n",
    "d\\Omega_0 = \n",
    "\\frac{1}{\\left| \\Omega_0\\right|} \\int_{\\Omega_0}\n",
    "\\left( \n",
    "X_l\n",
    "\\frac{\\partial S_{ik}}{X_k}\n",
    "+\n",
    "S_{ik}\\frac{\\partial X_l}{\\partial X_k}\n",
    "\\right)d\\Omega_0\n",
    "$$"
   ]
  },
  {
   "cell_type": "markdown",
   "metadata": {},
   "source": [
    "Again apply balance of linear momentum and proceed from there... You will get something like \n",
    "$$\n",
    "\\overline{J}^{-1}\\overline{\\bf S}\\overline{{\\widetilde{M}}}^T\n",
    "$$on the RHS. What remains to be shown is that $$\n",
    "\\overline{\\widetilde{M}} = \\overline{\\bf F}\n",
    "$$which you should be able to show easily"
   ]
  },
  {
   "cell_type": "markdown",
   "metadata": {},
   "source": []
  }
 ],
 "metadata": {
  "kernelspec": {
   "display_name": "Python 3",
   "language": "python",
   "name": "python3"
  },
  "language_info": {
   "codemirror_mode": {
    "name": "ipython",
    "version": 3
   },
   "file_extension": ".py",
   "mimetype": "text/x-python",
   "name": "python",
   "nbconvert_exporter": "python",
   "pygments_lexer": "ipython3",
   "version": "3.6.6"
  }
 },
 "nbformat": 4,
 "nbformat_minor": 2
}
