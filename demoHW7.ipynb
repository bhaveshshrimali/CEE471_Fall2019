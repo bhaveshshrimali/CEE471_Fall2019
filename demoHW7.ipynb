{
 "cells": [
  {
   "cell_type": "code",
   "execution_count": 1,
   "metadata": {},
   "outputs": [],
   "source": [
    "from sympy import *\n",
    "init_printing()"
   ]
  },
  {
   "cell_type": "markdown",
   "metadata": {},
   "source": [
    "#### Problem 2"
   ]
  },
  {
   "cell_type": "code",
   "execution_count": 2,
   "metadata": {},
   "outputs": [],
   "source": [
    "X1 = Symbol('X_1')\n",
    "X2 = Symbol('X_2')\n",
    "a = Symbol('a')\n",
    "phi = 1/(6*a)*(3*X1**2*X2 - X2**3)"
   ]
  },
  {
   "cell_type": "code",
   "execution_count": 3,
   "metadata": {},
   "outputs": [],
   "source": [
    "psi_1 = integrate(-simplify(phi.diff(X2)),X1)"
   ]
  },
  {
   "cell_type": "code",
   "execution_count": 4,
   "metadata": {},
   "outputs": [
    {
     "data": {
      "image/png": "[encoded data removed]",
      "text/latex": [
       "$$- \\frac{X_{1}^{3}}{6 a} + \\frac{X_{1} X_{2}^{2}}{2 a}$$"
      ],
      "text/plain": [
       "    3        2\n",
       "  X₁    X₁⋅X₂ \n",
       "- ─── + ──────\n",
       "  6⋅a    2⋅a  "
      ]
     },
     "execution_count": 4,
     "metadata": {},
     "output_type": "execute_result"
    }
   ],
   "source": [
    "psi_1"
   ]
  },
  {
   "cell_type": "code",
   "execution_count": 5,
   "metadata": {},
   "outputs": [],
   "source": [
    "psi_2 = integrate(simplify(phi.diff(X1)),X2)"
   ]
  },
  {
   "cell_type": "code",
   "execution_count": 6,
   "metadata": {},
   "outputs": [
    {
     "data": {
      "image/png": "[encoded data removed]",
      "text/latex": [
       "$$\\frac{X_{1} X_{2}^{2}}{2 a}$$"
      ],
      "text/plain": [
       "     2\n",
       "X₁⋅X₂ \n",
       "──────\n",
       " 2⋅a  "
      ]
     },
     "execution_count": 6,
     "metadata": {},
     "output_type": "execute_result"
    }
   ],
   "source": [
    "psi_2"
   ]
  },
  {
   "cell_type": "code",
   "execution_count": 7,
   "metadata": {},
   "outputs": [],
   "source": [
    "K = Symbol('K')\n",
    "psi = psi_2 - X1**3/(6*a) + K"
   ]
  },
  {
   "cell_type": "code",
   "execution_count": 8,
   "metadata": {},
   "outputs": [],
   "source": [
    "chi = simplify(psi - 1/2*(X1**2 + X2**2)) #definition of chi ()"
   ]
  },
  {
   "cell_type": "code",
   "execution_count": 9,
   "metadata": {},
   "outputs": [
    {
     "data": {
      "image/png": "[encoded data removed]",
      "text/latex": [
       "$$K - \\frac{2 a^{2}}{3}$$"
      ],
      "text/plain": [
       "       2\n",
       "    2⋅a \n",
       "K - ────\n",
       "     3  "
      ]
     },
     "execution_count": 9,
     "metadata": {},
     "output_type": "execute_result"
    }
   ],
   "source": [
    "nsimplify(chi.subs(X1,a),rational=True)"
   ]
  },
  {
   "cell_type": "code",
   "execution_count": 10,
   "metadata": {},
   "outputs": [],
   "source": [
    "Ksol = solve(chi.subs(X1,a),K)[0]"
   ]
  },
  {
   "cell_type": "code",
   "execution_count": 11,
   "metadata": {},
   "outputs": [],
   "source": [
    "chi = chi.subs(K,Ksol)"
   ]
  },
  {
   "cell_type": "code",
   "execution_count": 12,
   "metadata": {},
   "outputs": [
    {
     "data": {
      "image/png": "[encoded data removed]",
      "text/latex": [
       "$$- \\frac{X_{1}^{3}}{6 a} - \\frac{X_{1}^{2}}{2} + \\frac{X_{1} X_{2}^{2}}{2 a} - \\frac{X_{2}^{2}}{2} + \\frac{2 a^{2}}{3}$$"
      ],
      "text/plain": [
       "    3     2        2     2      2\n",
       "  X₁    X₁    X₁⋅X₂    X₂    2⋅a \n",
       "- ─── - ─── + ────── - ─── + ────\n",
       "  6⋅a    2     2⋅a      2     3  "
      ]
     },
     "execution_count": 12,
     "metadata": {},
     "output_type": "execute_result"
    }
   ],
   "source": [
    "nsimplify(chi,rational=True)"
   ]
  },
  {
   "cell_type": "code",
   "execution_count": 13,
   "metadata": {},
   "outputs": [],
   "source": [
    "# Calculate integral of chi"
   ]
  },
  {
   "cell_type": "markdown",
   "metadata": {},
   "source": [
    "$$2\\mu \\int\\limits_{x_1 = -2a}^a\\quad \\int\\limits_{x_2 = \\frac{-2a-x_1}{\\sqrt{3}}}^{\\frac{2a+x_1}{\\sqrt{3}}}\\ \\chi(x_1, x_2)\\ dx_2\\ dx_1  $$"
   ]
  },
  {
   "cell_type": "code",
   "execution_count": 14,
   "metadata": {},
   "outputs": [],
   "source": [
    "chi_1 = integrate(chi,(X2,-2*a/sqrt(3) - X1/sqrt(3), 2*a/sqrt(3) + X1/sqrt(3)  ))"
   ]
  },
  {
   "cell_type": "code",
   "execution_count": 16,
   "metadata": {},
   "outputs": [
    {
     "data": {
      "image/png": "[encoded data removed]",
      "text/latex": [
       "$$\\frac{9 \\sqrt{3} a^{4} \\mu}{5}$$"
      ],
      "text/plain": [
       "      4  \n",
       "9⋅√3⋅a ⋅μ\n",
       "─────────\n",
       "    5    "
      ]
     },
     "execution_count": 16,
     "metadata": {},
     "output_type": "execute_result"
    }
   ],
   "source": [
    "mu=Symbol('mu')\n",
    "nsimplify(2*mu*integrate(chi_1,(X1,-2*a,a)),rational=True)"
   ]
  },
  {
   "cell_type": "code",
   "execution_count": null,
   "metadata": {},
   "outputs": [],
   "source": []
  }
 ],
 "metadata": {
  "kernelspec": {
   "display_name": "Python 3",
   "language": "python",
   "name": "python3"
  },
  "language_info": {
   "codemirror_mode": {
    "name": "ipython",
    "version": 3
   },
   "file_extension": ".py",
   "mimetype": "text/x-python",
   "name": "python",
   "nbconvert_exporter": "python",
   "pygments_lexer": "ipython3",
   "version": "3.6.6"
  }
 },
 "nbformat": 4,
 "nbformat_minor": 2
}
