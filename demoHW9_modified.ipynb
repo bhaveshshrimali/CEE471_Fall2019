{
 "cells": [
  {
   "cell_type": "markdown",
   "metadata": {},
   "source": [
    "# HW9: Finite Elements (Rayleigh-Ritz) and Stability"
   ]
  },
  {
   "cell_type": "code",
   "execution_count": 1,
   "metadata": {},
   "outputs": [],
   "source": [
    "from sympy import *\n",
    "import numpy as np\n",
    "import matplotlib.pyplot as plt\n",
    "from matplotlib.ticker import AutoMinorLocator\n",
    "plt.rc('text',usetex=True)\n",
    "init_printing()\n",
    "plt.rcParams['ytick.right']=True\n",
    "plt.rcParams['xtick.top']=True\n",
    "plt.rcParams['ytick.direction']='in'\n",
    "plt.rcParams['xtick.direction']='in'\n",
    "plt.rcParams['ytick.labelsize']=28\n",
    "plt.rcParams['xtick.labelsize']=28\n",
    "plt.rcParams['xtick.minor.visible']=True\n",
    "plt.rcParams['ytick.minor.visible']=True\n",
    "plt.rcParams['xtick.major.size']=8\n",
    "plt.rcParams['xtick.minor.size']=4\n",
    "plt.rcParams['ytick.major.size']=8\n",
    "plt.rcParams['ytick.minor.size']=4\n",
    "plt.rcParams['lines.markersize']=np.sqrt(36)"
   ]
  },
  {
   "cell_type": "markdown",
   "metadata": {},
   "source": [
    "## Initialize the degrees of freedom"
   ]
  },
  {
   "cell_type": "code",
   "execution_count": 2,
   "metadata": {},
   "outputs": [],
   "source": [
    "alph = zeros(6,1)\n",
    "for i in range(len(alph)):\n",
    "    alph[i] = Symbol('alpha_{}'.format(i+1),real=True)"
   ]
  },
  {
   "cell_type": "code",
   "execution_count": 3,
   "metadata": {},
   "outputs": [
    {
     "data": {
      "image/png": "[encoded data removed]",
      "text/latex": [
       "$$\\left[\\begin{matrix}\\alpha_{1}\\\\\\alpha_{2}\\\\\\alpha_{3}\\\\\\alpha_{4}\\\\\\alpha_{5}\\\\\\alpha_{6}\\end{matrix}\\right]$$"
      ],
      "text/plain": [
       "⎡α₁⎤\n",
       "⎢  ⎥\n",
       "⎢α₂⎥\n",
       "⎢  ⎥\n",
       "⎢α₃⎥\n",
       "⎢  ⎥\n",
       "⎢α₄⎥\n",
       "⎢  ⎥\n",
       "⎢α₅⎥\n",
       "⎢  ⎥\n",
       "⎣α₆⎦"
      ]
     },
     "execution_count": 3,
     "metadata": {},
     "output_type": "execute_result"
    }
   ],
   "source": [
    "alph"
   ]
  },
  {
   "cell_type": "code",
   "execution_count": 4,
   "metadata": {},
   "outputs": [],
   "source": [
    "x = Symbol('x',real=True)\n",
    "y = Symbol('y',real=True)\n",
    "\n",
    "a1 = Symbol('a_1',real=True)\n",
    "a2 = Symbol('a_2',real=True)\n",
    "a3 = Symbol('a_3',real=True)\n",
    "\n",
    "l = Symbol('l',real=True)\n",
    "w = Symbol('w',real=True)\n",
    "h = Symbol('h',real=True)\n",
    "\n",
    "N1_1 = a1 + a2*x + a3 *y #shape function for node 1 subscript (elem: no.)\n",
    "N3_1 = a1 + a2*x + a3 *y\n",
    "N1_2 = a1 + a2*x + a3 *y\n",
    "N1_3 = a1 + a2*x + a3 *y\n",
    "N3_3 = a1 + a2*x + a3 *y"
   ]
  },
  {
   "cell_type": "markdown",
   "metadata": {},
   "source": [
    "## Determine the shape functions"
   ]
  },
  {
   "cell_type": "code",
   "execution_count": 5,
   "metadata": {},
   "outputs": [],
   "source": [
    "# Triangle 1\n",
    "sys1_1 = solve_linear_system(Matrix([[1,0,l,1], [1,0,0,0], [1,1/2*w,l,0]]),a1,a2,a3)\n",
    "sys2_1 = solve_linear_system(Matrix([[1,0,l,0], [1,0,0,0], [1,1/2*w,l,1]]),a1,a2,a3)\n",
    "\n",
    "# Triangle 2\n",
    "sys1_2 = solve_linear_system(Matrix([[1,1/2*w,l,1], [1,0,0,0], [1,w,0,0]]),a1,a2,a3)\n",
    "\n",
    "# Triangle 3\n",
    "sys1_3 = solve_linear_system(Matrix([[1,1/2*w,l,1], [1,w,0,0], [1,w,l,0]]),a1,a2,a3)\n",
    "sys2_3 = solve_linear_system(Matrix([[1,1/2*w,l,0], [1,w,0,0], [1,w,l,1]]),a1,a2,a3)\n"
   ]
  },
  {
   "cell_type": "code",
   "execution_count": 6,
   "metadata": {},
   "outputs": [],
   "source": [
    "# Triangle 1\n",
    "N1_1 = N1_1.subs(sys1_1)\n",
    "N3_1 = N3_1.subs(sys2_1)\n",
    "\n",
    "# Triangle 2\n",
    "N1_2 = N1_2.subs(sys1_2)\n",
    "\n",
    "# Triangle 3\n",
    "N1_3 = N1_3.subs(sys1_3)\n",
    "N3_3 = N3_3.subs(sys2_3)"
   ]
  },
  {
   "cell_type": "markdown",
   "metadata": {},
   "source": [
    "### Look for the displacement field $u$ and $v$"
   ]
  },
  {
   "cell_type": "code",
   "execution_count": 7,
   "metadata": {},
   "outputs": [
    {
     "data": {
      "image/png": "[encoded data removed]",
      "text/latex": [
       "$$\\frac{2.0 x}{w}$$"
      ],
      "text/plain": [
       "2.0⋅x\n",
       "─────\n",
       "  w  "
      ]
     },
     "execution_count": 7,
     "metadata": {},
     "output_type": "execute_result"
    }
   ],
   "source": [
    "N3_1"
   ]
  },
  {
   "cell_type": "code",
   "execution_count": 8,
   "metadata": {},
   "outputs": [],
   "source": [
    "# Triangle 1\n",
    "u1_1 = N1_1*alph[0] + N3_1*alph[2]\n",
    "v1_1 = N1_1*alph[1] + N3_1*alph[3]\n",
    "\n",
    "# Triangle 2\n",
    "u1_2 = N1_2*alph[2]\n",
    "v1_2 = N1_2*alph[3]\n",
    "\n",
    "# Triangle 3\n",
    "u1_3 = N1_3*alph[2] + N3_3*alph[-2]\n",
    "v1_3 = N1_3 * alph[3] + N3_3*alph[-1]"
   ]
  },
  {
   "cell_type": "code",
   "execution_count": 9,
   "metadata": {},
   "outputs": [],
   "source": [
    "eps_1 = Matrix([[u1_1.diff(x),0.5*(u1_1.diff(y) + v1_1.diff(x)) ], [0.5*(u1_1.diff(y) + v1_1.diff(x)), v1_1.diff(y)]])\n",
    "eps_2 = Matrix([[u1_2.diff(x),0.5*(u1_2.diff(y) + v1_2.diff(x)) ], [0.5*(u1_2.diff(y) + v1_2.diff(x)), v1_2.diff(y)]])\n",
    "eps_3 = Matrix([[u1_3.diff(x),0.5*(u1_3.diff(y) + v1_3.diff(x)) ], [0.5*(u1_3.diff(y) + v1_3.diff(x)), v1_3.diff(y)]])"
   ]
  },
  {
   "cell_type": "markdown",
   "metadata": {},
   "source": [
    "### Material properties\n"
   ]
  },
  {
   "cell_type": "code",
   "execution_count": 10,
   "metadata": {},
   "outputs": [
    {
     "data": {
      "image/png": "[encoded data removed]",
      "text/latex": [
       "$$\\frac{1}{l w} \\left(- P \\alpha_{5} l w + 0.5 h \\mu w^{2} \\left(0.5 \\alpha_{3}^{2} + \\alpha_{4}^{2}\\right) + 0.25 h \\mu \\left(1.0 \\alpha_{2}^{2} w^{2} + 1.0 \\alpha_{6}^{2} w^{2} + 4.0 l^{2} \\left(\\alpha_{1} - \\alpha_{3}\\right)^{2} + 4.0 l^{2} \\left(\\alpha_{3} - \\alpha_{5}\\right)^{2} + 2 \\left(0.5 \\alpha_{1} w + 1.0 l \\left(- \\alpha_{2} + \\alpha_{4}\\right)\\right)^{2} + 2 \\left(0.5 \\alpha_{5} w + 1.0 l \\left(- \\alpha_{4} + \\alpha_{6}\\right)\\right)^{2}\\right)\\right)$$"
      ],
      "text/plain": [
       "                     2 ⎛      2     2⎞            ⎛      2  2         2  2    \n",
       "-P⋅α₅⋅l⋅w + 0.5⋅h⋅μ⋅w ⋅⎝0.5⋅α₃  + α₄ ⎠ + 0.25⋅h⋅μ⋅⎝1.0⋅α₂ ⋅w  + 1.0⋅α₆ ⋅w  + 4\n",
       "──────────────────────────────────────────────────────────────────────────────\n",
       "                                                                              \n",
       "\n",
       "    2          2        2          2                                  2       \n",
       ".0⋅l ⋅(α₁ - α₃)  + 4.0⋅l ⋅(α₃ - α₅)  + 2⋅(0.5⋅α₁⋅w + 1.0⋅l⋅(-α₂ + α₄))  + 2⋅(0\n",
       "──────────────────────────────────────────────────────────────────────────────\n",
       "             l⋅w                                                              \n",
       "\n",
       "                           2⎞\n",
       ".5⋅α₅⋅w + 1.0⋅l⋅(-α₄ + α₆)) ⎠\n",
       "─────────────────────────────\n",
       "                             "
      ]
     },
     "execution_count": 10,
     "metadata": {},
     "output_type": "execute_result"
    }
   ],
   "source": [
    "# mu = 1.e7\n",
    "# nu = 0.\n",
    "# lmbda = 0.\n",
    "mu=Symbol('mu',real=True)\n",
    "lmbda = Symbol('lambda',real=True)\n",
    "# P = 10.\n",
    "P = Symbol('P',real=True)\n",
    "# l = w = 1\n",
    "# h = 0.01\n",
    "\n",
    "# A_i are the elemental volumes\n",
    "A3 = A1 = 1/4*w*l*h\n",
    "A2 = 2*A3\n",
    "# Defining the potential energy\n",
    "U = mu*trace(eps_1*eps_1)*A1 + mu*trace(eps_3*eps_3)*A3 + mu*trace(eps_2*eps_2)*A2 - P*alph[4]\n",
    "simplify(U)"
   ]
  },
  {
   "cell_type": "code",
   "execution_count": 11,
   "metadata": {},
   "outputs": [],
   "source": [
    "eqns = []\n",
    "for i in range(len(alph)):\n",
    "    eqns.append(U.diff(alph[i]))"
   ]
  },
  {
   "cell_type": "code",
   "execution_count": 12,
   "metadata": {},
   "outputs": [],
   "source": [
    "soln = solve(eqns,alph)"
   ]
  },
  {
   "cell_type": "code",
   "execution_count": 13,
   "metadata": {},
   "outputs": [],
   "source": [
    "alph = alph.subs(soln)"
   ]
  },
  {
   "cell_type": "code",
   "execution_count": 14,
   "metadata": {},
   "outputs": [
    {
     "data": {
      "image/png": "[encoded data removed]",
      "text/latex": [
       "$$\\left[\\begin{matrix}\\frac{4.0 P l^{3} \\left(256.0 l^{6} + 192.0 l^{4} w^{2} + 24.0 l^{2} w^{4} - w^{6}\\right)}{h \\mu w \\left(512.0 l^{8} + 640.0 l^{6} w^{2} + 176.0 l^{4} w^{4} + 24.0 l^{2} w^{6} + w^{8}\\right)}\\\\\\frac{32.0 P l^{6} \\left(16.0 l^{2} + 5.0 w^{2}\\right)}{h \\mu \\left(512.0 l^{8} + 640.0 l^{6} w^{2} + 176.0 l^{4} w^{4} + 24.0 l^{2} w^{6} + w^{8}\\right)}\\\\\\frac{16.0 P l^{3} \\left(2.0 l^{2} + w^{2}\\right)}{h \\mu w \\left(16.0 l^{4} + 16.0 l^{2} w^{2} + w^{4}\\right)}\\\\\\frac{2.0 P l^{2} w^{2}}{h \\mu \\left(32.0 l^{4} + 8.0 l^{2} w^{2} + w^{4}\\right)}\\\\\\frac{4.0 P l \\left(256.0 l^{8} + 256.0 l^{6} w^{2} + 104.0 l^{4} w^{4} + 19.0 l^{2} w^{6} + w^{8}\\right)}{h \\mu w \\left(512.0 l^{8} + 640.0 l^{6} w^{2} + 176.0 l^{4} w^{4} + 24.0 l^{2} w^{6} + w^{8}\\right)}\\\\- \\frac{4.0 P l^{2} \\left(128.0 l^{6} + 56.0 l^{4} w^{2} + 16.0 l^{2} w^{4} + w^{6}\\right)}{h \\mu \\left(512.0 l^{8} + 640.0 l^{6} w^{2} + 176.0 l^{4} w^{4} + 24.0 l^{2} w^{6} + w^{8}\\right)}\\end{matrix}\\right]$$"
      ],
      "text/plain": [
       "⎡             3 ⎛       6          4  2         2  4    6⎞       ⎤\n",
       "⎢      4.0⋅P⋅l ⋅⎝256.0⋅l  + 192.0⋅l ⋅w  + 24.0⋅l ⋅w  - w ⎠       ⎥\n",
       "⎢ ────────────────────────────────────────────────────────────── ⎥\n",
       "⎢       ⎛       8          6  2          4  4         2  6    8⎞ ⎥\n",
       "⎢ h⋅μ⋅w⋅⎝512.0⋅l  + 640.0⋅l ⋅w  + 176.0⋅l ⋅w  + 24.0⋅l ⋅w  + w ⎠ ⎥\n",
       "⎢                                                                ⎥\n",
       "⎢                          6 ⎛      2        2⎞                  ⎥\n",
       "⎢                  32.0⋅P⋅l ⋅⎝16.0⋅l  + 5.0⋅w ⎠                  ⎥\n",
       "⎢  ────────────────────────────────────────────────────────────  ⎥\n",
       "⎢      ⎛       8          6  2          4  4         2  6    8⎞  ⎥\n",
       "⎢  h⋅μ⋅⎝512.0⋅l  + 640.0⋅l ⋅w  + 176.0⋅l ⋅w  + 24.0⋅l ⋅w  + w ⎠  ⎥\n",
       "⎢                                                                ⎥\n",
       "⎢                            3 ⎛     2    2⎞                     ⎥\n",
       "⎢                    16.0⋅P⋅l ⋅⎝2.0⋅l  + w ⎠                     ⎥\n",
       "⎢               ─────────────────────────────────                ⎥\n",
       "⎢                     ⎛      4         2  2    4⎞                ⎥\n",
       "⎢               h⋅μ⋅w⋅⎝16.0⋅l  + 16.0⋅l ⋅w  + w ⎠                ⎥\n",
       "⎢                                                                ⎥\n",
       "⎢                                 2  2                           ⎥\n",
       "⎢                          2.0⋅P⋅l ⋅w                            ⎥\n",
       "⎢                 ──────────────────────────────                 ⎥\n",
       "⎢                     ⎛      4        2  2    4⎞                 ⎥\n",
       "⎢                 h⋅μ⋅⎝32.0⋅l  + 8.0⋅l ⋅w  + w ⎠                 ⎥\n",
       "⎢                                                                ⎥\n",
       "⎢        ⎛       8          6  2          4  4         2  6    8⎞⎥\n",
       "⎢4.0⋅P⋅l⋅⎝256.0⋅l  + 256.0⋅l ⋅w  + 104.0⋅l ⋅w  + 19.0⋅l ⋅w  + w ⎠⎥\n",
       "⎢────────────────────────────────────────────────────────────────⎥\n",
       "⎢       ⎛       8          6  2          4  4         2  6    8⎞ ⎥\n",
       "⎢ h⋅μ⋅w⋅⎝512.0⋅l  + 640.0⋅l ⋅w  + 176.0⋅l ⋅w  + 24.0⋅l ⋅w  + w ⎠ ⎥\n",
       "⎢                                                                ⎥\n",
       "⎢              2 ⎛       6         4  2         2  4    6⎞       ⎥\n",
       "⎢      -4.0⋅P⋅l ⋅⎝128.0⋅l  + 56.0⋅l ⋅w  + 16.0⋅l ⋅w  + w ⎠       ⎥\n",
       "⎢  ────────────────────────────────────────────────────────────  ⎥\n",
       "⎢      ⎛       8          6  2          4  4         2  6    8⎞  ⎥\n",
       "⎣  h⋅μ⋅⎝512.0⋅l  + 640.0⋅l ⋅w  + 176.0⋅l ⋅w  + 24.0⋅l ⋅w  + w ⎠  ⎦"
      ]
     },
     "execution_count": 14,
     "metadata": {},
     "output_type": "execute_result"
    }
   ],
   "source": [
    "alph"
   ]
  },
  {
   "cell_type": "code",
   "execution_count": 15,
   "metadata": {},
   "outputs": [],
   "source": [
    "subs_list = [(l,1), (w,1), (h,0.01),(P,10.),(mu,1.e7/2)]"
   ]
  },
  {
   "cell_type": "code",
   "execution_count": 16,
   "metadata": {},
   "outputs": [
    {
     "data": {
      "image/png": "[encoded data removed]",
      "text/latex": [
       "$$\\left[\\begin{matrix}278.492239467849\\\\99.3348115299335\\\\290.909090909091\\\\9.75609756097561\\\\376.053215077605\\\\-118.847006651885\\end{matrix}\\right]$$"
      ],
      "text/plain": [
       "⎡278.492239467849 ⎤\n",
       "⎢                 ⎥\n",
       "⎢99.3348115299335 ⎥\n",
       "⎢                 ⎥\n",
       "⎢290.909090909091 ⎥\n",
       "⎢                 ⎥\n",
       "⎢9.75609756097561 ⎥\n",
       "⎢                 ⎥\n",
       "⎢376.053215077605 ⎥\n",
       "⎢                 ⎥\n",
       "⎣-118.847006651885⎦"
      ]
     },
     "execution_count": 16,
     "metadata": {},
     "output_type": "execute_result"
    }
   ],
   "source": [
    "alph = alph.subs(subs_list)\n",
    "alph * 10**6"
   ]
  },
  {
   "cell_type": "code",
   "execution_count": 17,
   "metadata": {},
   "outputs": [],
   "source": [
    "import matplotlib.tri as tri"
   ]
  },
  {
   "cell_type": "code",
   "execution_count": 18,
   "metadata": {},
   "outputs": [],
   "source": [
    "u = np.array([alph],float).flatten()\n",
    "u_def = u * 1.e3"
   ]
  },
  {
   "cell_type": "code",
   "execution_count": 19,
   "metadata": {},
   "outputs": [],
   "source": [
    "xnodes = np.array([0., 1., 1., 0.5, 0.])\n",
    "ynodes = np.array([0., 0., 1., 1, 1])\n",
    "conn = [[0,3,4], [0,1,3], [1,2,3]]\n",
    "triangles = tri.Triangulation(xnodes, ynodes, triangles = conn)"
   ]
  },
  {
   "cell_type": "code",
   "execution_count": 20,
   "metadata": {},
   "outputs": [],
   "source": [
    "xnodes_def = np.array([0.,1.,1+u_def[-2],0.5+u_def[-4],u_def[0]])\n",
    "ynodes_def = np.array([0.,0.,1+u_def[-1],1+u_def[-3],1+u_def[1]])\n",
    "triangles_def = tri.Triangulation(xnodes_def, ynodes_def, triangles = conn)"
   ]
  },
  {
   "cell_type": "code",
   "execution_count": 21,
   "metadata": {},
   "outputs": [
    {
     "name": "stderr",
     "output_type": "stream",
     "text": [
      "The PostScript backend does not support transparency; partially transparent artists will be rendered opaque.\n",
      "The PostScript backend does not support transparency; partially transparent artists will be rendered opaque.\n"
     ]
    },
    {
     "data": {
      "image/png": "[encoded data removed]",
      "text/plain": [
       "<Figure size 720x720 with 1 Axes>"
      ]
     },
     "metadata": {
      "needs_background": "light"
     },
     "output_type": "display_data"
    }
   ],
   "source": [
    "fig,ax = plt.subplots(1,1,figsize=(10,10))\n",
    "ax.triplot(triangles,'-bo',lw=3,label=r'$\\Omega_0$: Undeformed')\n",
    "ax.triplot(triangles_def,'--ro',lw=3,label=r'$\\Omega$: Deformed')\n",
    "ax.tick_params(pad=10)\n",
    "# ax.grid(which='major')\n",
    "ax.xaxis.set_minor_locator(AutoMinorLocator(20))\n",
    "ax.yaxis.set_minor_locator(AutoMinorLocator(20))\n",
    "h,l = ax.get_legend_handles_labels()\n",
    "ax.legend(loc=0,handles = [h[0],h[2]],labels = [l[0],l[2]],fontsize=24,ncol=4,fancybox=False,facecolor='wheat',edgecolor='k',shadow=True)\n",
    "fig.tight_layout()\n",
    "fig.savefig(r'plotP1.eps')"
   ]
  },
  {
   "cell_type": "code",
   "execution_count": 22,
   "metadata": {},
   "outputs": [],
   "source": [
    "eps_1 = eps_1.subs(subs_list)"
   ]
  },
  {
   "cell_type": "code",
   "execution_count": 23,
   "metadata": {},
   "outputs": [],
   "source": [
    "alph = [i for i in alph]"
   ]
  },
  {
   "cell_type": "code",
   "execution_count": 24,
   "metadata": {},
   "outputs": [
    {
     "data": {
      "image/png": "[encoded data removed]",
      "text/latex": [
       "$$\\left [ 0.000278492239467849, \\quad 9.93348115299335 \\cdot 10^{-5}, \\quad 0.000290909090909091, \\quad 9.75609756097561 \\cdot 10^{-6}, \\quad 0.000376053215077605, \\quad -0.000118847006651885\\right ]$$"
      ],
      "text/plain": [
       "[0.000278492239467849, 9.93348115299335e-5, 0.000290909090909091, 9.7560975609\n",
       "7561e-6, 0.000376053215077605, -0.000118847006651885]"
      ]
     },
     "execution_count": 24,
     "metadata": {},
     "output_type": "execute_result"
    }
   ],
   "source": [
    "alph"
   ]
  },
  {
   "cell_type": "code",
   "execution_count": 25,
   "metadata": {},
   "outputs": [
    {
     "data": {
      "image/png": "[encoded data removed]",
      "text/latex": [
       "$$\\left[\\begin{matrix}- 2.0 \\alpha_{1} + 2.0 \\alpha_{3} & 0.5 \\alpha_{1} - 1.0 \\alpha_{2} + 1.0 \\alpha_{4}\\\\0.5 \\alpha_{1} - 1.0 \\alpha_{2} + 1.0 \\alpha_{4} & 1.0 \\alpha_{2}\\end{matrix}\\right]$$"
      ],
      "text/plain": [
       "⎡    -2.0⋅α₁ + 2.0⋅α₃      0.5⋅α₁ - 1.0⋅α₂ + 1.0⋅α₄⎤\n",
       "⎢                                                  ⎥\n",
       "⎣0.5⋅α₁ - 1.0⋅α₂ + 1.0⋅α₄           1.0⋅α₂         ⎦"
      ]
     },
     "execution_count": 25,
     "metadata": {},
     "output_type": "execute_result"
    }
   ],
   "source": [
    "eps_1"
   ]
  },
  {
   "cell_type": "code",
   "execution_count": 26,
   "metadata": {},
   "outputs": [
    {
     "data": {
      "image/png": "[encoded data removed]",
      "text/latex": [
       "$$24.8337028824834$$"
      ],
      "text/plain": [
       "24.8337028824834"
      ]
     },
     "execution_count": 26,
     "metadata": {},
     "output_type": "execute_result"
    }
   ],
   "source": [
    "2*(alph[2]-alph[0])*10**6"
   ]
  },
  {
   "cell_type": "code",
   "execution_count": 27,
   "metadata": {},
   "outputs": [
    {
     "data": {
      "image/png": "[encoded data removed]",
      "text/latex": [
       "$$12.5 \\alpha_{2}^{2} + 12.5 \\alpha_{3}^{2} + 25.0 \\alpha_{4}^{2} - 0.01 \\alpha_{5} + 12.5 \\alpha_{6}^{2} + 50.0 \\left(\\alpha_{1} - \\alpha_{3}\\right)^{2} + 50.0 \\left(\\alpha_{3} - \\alpha_{5}\\right)^{2} + 25.0 \\left(0.5 \\alpha_{1} - 1.0 \\alpha_{2} + 1.0 \\alpha_{4}\\right)^{2} + 25.0 \\left(- 1.0 \\alpha_{4} + 0.5 \\alpha_{5} + 1.0 \\alpha_{6}\\right)^{2}$$"
      ],
      "text/plain": [
       "       2          2          2                    2                 2         \n",
       "12.5⋅α₂  + 12.5⋅α₃  + 25.0⋅α₄  - 0.01⋅α₅ + 12.5⋅α₆  + 50.0⋅(α₁ - α₃)  + 50.0⋅(\n",
       "\n",
       "        2                                  2                                  \n",
       "α₃ - α₅)  + 25.0⋅(0.5⋅α₁ - 1.0⋅α₂ + 1.0⋅α₄)  + 25.0⋅(-1.0⋅α₄ + 0.5⋅α₅ + 1.0⋅α₆\n",
       "\n",
       " 2\n",
       ") "
      ]
     },
     "execution_count": 27,
     "metadata": {},
     "output_type": "execute_result"
    }
   ],
   "source": [
    "simplify(U.subs(subs_list)/10**3)"
   ]
  },
  {
   "cell_type": "code",
   "execution_count": null,
   "metadata": {},
   "outputs": [],
   "source": []
  }
 ],
 "metadata": {
  "kernelspec": {
   "display_name": "Python 3",
   "language": "python",
   "name": "python3"
  },
  "language_info": {
   "codemirror_mode": {
    "name": "ipython",
    "version": 3
   },
   "file_extension": ".py",
   "mimetype": "text/x-python",
   "name": "python",
   "nbconvert_exporter": "python",
   "pygments_lexer": "ipython3",
   "version": "3.6.9"
  }
 },
 "nbformat": 4,
 "nbformat_minor": 2
}
